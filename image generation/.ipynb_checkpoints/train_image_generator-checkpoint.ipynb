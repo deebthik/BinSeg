{
 "cells": [
  {
   "cell_type": "code",
   "execution_count": 3,
   "metadata": {},
   "outputs": [],
   "source": [
    "import numpy\n",
    "import random\n",
    "from PIL import Image\n",
    "import pandas as pd\n",
    "import numpy as np\n",
    "import cv2\n",
    "import math\n",
    "import os\n",
    "from hilbertcurve.hilbertcurve import HilbertCurve"
   ]
  },
  {
   "cell_type": "code",
   "execution_count": 173,
   "metadata": {},
   "outputs": [
    {
     "name": "stdout",
     "output_type": "stream",
     "text": [
      "1685\n"
     ]
    }
   ],
   "source": [
    "files = []\n",
    "max_size = 512*512\n",
    "df = pd.read_csv('sizes.csv','r',delimiter=',')\n",
    "\n",
    "x = []\n",
    "y = []\n",
    "\n",
    "for index,row in df.iterrows():\n",
    "    if row['size']>(128*128):\n",
    "        files.append(row['name'])\n",
    "    \n",
    "print(len(files))        "
   ]
  },
  {
   "cell_type": "code",
   "execution_count": 142,
   "metadata": {},
   "outputs": [],
   "source": [
    "def create_image(name):\n",
    "    df = pd.read_csv(\"decimal_files/\" + name,sep='|',error_bad_lines=False,warn_bad_lines=False,engine='python')\n",
    "\n",
    "    decimals = []\n",
    "    for index, row in df.iterrows():\n",
    "        values = row['bytes'].split('-')\n",
    "        if row['type']=='data':\n",
    "            values = [value+'d' for value in values]\n",
    "        else:\n",
    "            values = [value+'c' for value in values]\n",
    "        decimals.extend(values)\n",
    "    \n",
    "    length = len(decimals)\n",
    "    dimension = math.ceil(math.sqrt(length))\n",
    "    bw_data = numpy.zeros((dimension, dimension), dtype=numpy.uint8)\n",
    "    col_data = numpy.zeros((dimension, dimension, 3), dtype=numpy.uint8)\n",
    "    \n",
    "    for num in range(length):\n",
    "        \n",
    "        if decimals[num][-1]=='c':\n",
    "            col = [0,255,0]\n",
    "        else:\n",
    "            col = [255,0,0]\n",
    "        \n",
    "        if (num//dimension%2==0):\n",
    "\n",
    "            bw_data[num//dimension,num%dimension] = decimals[num][:-1]\n",
    "            col_data[num//dimension,num%dimension] = col\n",
    "        else:\n",
    "            bw_data[num//dimension,dimension - num%dimension - 1]=decimals[num][:-1]\n",
    "            col_data[num//dimension,dimension - num%dimension - 1]=col\n",
    "            \n",
    "    image = Image.fromarray(bw_data)\n",
    "    image.save(\"images_varied/bw/\"+name.strip('csv')+\"png\",quality=100)\n",
    "    image = Image.fromarray(col_data)\n",
    "    image.save(\"images_varied/col/\"+name.strip('csv')+\"png\",quality=100)\n",
    " "
   ]
  },
  {
   "cell_type": "code",
   "execution_count": 143,
   "metadata": {},
   "outputs": [
    {
     "name": "stdout",
     "output_type": "stream",
     "text": [
      "0\n",
      "100\n",
      "200\n",
      "300\n",
      "400\n",
      "500\n",
      "600\n",
      "700\n",
      "800\n",
      "900\n",
      "1000\n",
      "1100\n",
      "1200\n",
      "1300\n",
      "1400\n",
      "1500\n",
      "1600\n",
      "1700\n",
      "1800\n",
      "1900\n",
      "2000\n",
      "2100\n",
      "2200\n",
      "2300\n",
      "2400\n",
      "2500\n",
      "2600\n",
      "2700\n",
      "2800\n",
      "2900\n",
      "3000\n",
      "3100\n",
      "3200\n",
      "3300\n",
      "3400\n",
      "3500\n"
     ]
    }
   ],
   "source": [
    "for count,file in enumerate(files):\n",
    "    create_image(file)\n",
    "    if count%100==0:\n",
    "        print(count)"
   ]
  },
  {
   "cell_type": "code",
   "execution_count": 161,
   "metadata": {},
   "outputs": [
    {
     "name": "stdout",
     "output_type": "stream",
     "text": [
      "8\n"
     ]
    }
   ],
   "source": [
    "#resize images\n",
    "\n",
    "path1 = '/Users/aizazansari/Desktop/Uni Data/MOMA/BinaryAnalysis/images_varied/bw/'\n",
    "path2 = '/Users/aizazansari/Desktop/Uni Data/MOMA/BinaryAnalysis/images_varied/col/'\n",
    "\n",
    "arr = os.listdir(path1)\n",
    "\n",
    "\n",
    "for img in arr:\n",
    "    if img.endswith('.png'):\n",
    "        image1 = Image.open(path1+img)\n",
    "        dim = pow(2,math.ceil(math.log(image1.size[0],2))) \n",
    "        ret_image1 = image1.resize([dim,dim], Image.NEAREST)\n",
    "        ret_image1.save(\"images_varied/bw_up/\"+ img,quality=100)\n",
    "\n",
    "        image2 = Image.open(path2+img)\n",
    "        ret_image2 = image2.resize([dim,dim], Image.NEAREST)\n",
    "        ret_image2.save(\"images_varied/col_up/\"+ img,quality=100)\n",
    "        "
   ]
  },
  {
   "cell_type": "code",
   "execution_count": 164,
   "metadata": {},
   "outputs": [],
   "source": [
    "#hilbert coordinates generator\n",
    "def hc_coords(p, n,size):\n",
    "    coords = []\n",
    "    hilbert_curve = HilbertCurve(p, n)\n",
    "    for i in range(size):\n",
    "        coord = hilbert_curve.coordinates_from_distance(i)\n",
    "        coords += [coord]\n",
    "    return (coords)"
   ]
  },
  {
   "cell_type": "code",
   "execution_count": 165,
   "metadata": {},
   "outputs": [],
   "source": [
    "def create_hilbert_image(name):\n",
    "    \n",
    "    bw_img = np.array(Image.open(\"images_varied/bw_up/\"+name))\n",
    "    col_img = np.array(Image.open(\"images_varied/col_up/\"+name))\n",
    "    \n",
    "    dimension = bw_img.shape[0]\n",
    "    coords = hc_dict[dimension]\n",
    " \n",
    "    bw_data = numpy.zeros((dimension, dimension), dtype=numpy.uint8)\n",
    "    col_data = numpy.zeros((dimension, dimension, 3), dtype=numpy.uint8)\n",
    "    \n",
    "    for num in range(dimension*dimension):\n",
    "        if (num//dimension%2==0):\n",
    "            bw_data[coords[num][0],coords[num][1]] = bw_img[num//dimension,num%dimension] \n",
    "            col_data[coords[num][0],coords[num][1]] = col_img[num//dimension,num%dimension] \n",
    "        else:\n",
    "            bw_data[coords[num][0],coords[num][1]] = bw_img[num//dimension,dimension - num%dimension - 1]\n",
    "            col_data[coords[num][0],coords[num][1]] = col_img[num//dimension,dimension - num%dimension - 1]\n",
    "       \n",
    "    image = Image.fromarray(bw_data)\n",
    "    image.save(\"images_varied/bw_up_hilbert/\"+name,quality=100)\n",
    "    image = Image.fromarray(col_data)\n",
    "    image.save(\"images_varied/col_up_hilbert/\"+name,quality=100)"
   ]
  },
  {
   "cell_type": "code",
   "execution_count": 163,
   "metadata": {},
   "outputs": [],
   "source": [
    "hc_dict = {8: hc_coords(3,2,8*8),\n",
    "          16: hc_coords(4,2,16*16),\n",
    "          32: hc_coords(5,2,32*32),\n",
    "          64: hc_coords(6,2,64*64),\n",
    "          128: hc_coords(7,2,128*128),\n",
    "          256: hc_coords(8,2,256*256),\n",
    "          512: hc_coords(9,2,512*512)\n",
    "          }"
   ]
  },
  {
   "cell_type": "code",
   "execution_count": 166,
   "metadata": {},
   "outputs": [
    {
     "name": "stdout",
     "output_type": "stream",
     "text": [
      "0\n",
      "100\n",
      "200\n",
      "300\n",
      "400\n",
      "500\n",
      "600\n",
      "700\n",
      "800\n",
      "900\n",
      "1000\n",
      "1100\n",
      "1200\n",
      "1300\n",
      "1400\n",
      "1500\n",
      "1600\n",
      "1700\n",
      "1800\n",
      "1900\n",
      "2000\n",
      "2100\n",
      "2200\n",
      "2300\n",
      "2400\n",
      "2500\n",
      "2600\n",
      "2700\n",
      "2800\n",
      "2900\n",
      "3000\n",
      "3100\n",
      "3200\n",
      "3300\n",
      "3400\n",
      "3500\n"
     ]
    }
   ],
   "source": [
    "#generate hilbert images\n",
    "arr = os.listdir('/Users/aizazansari/Desktop/Uni Data/MOMA/BinaryAnalysis/images_varied/bw_up')\n",
    "for count, name in enumerate(arr):\n",
    "    if name.endswith('.png'):\n",
    "        create_hilbert_image(name)   \n",
    "    if count%100==0:\n",
    "        print(count)"
   ]
  },
  {
   "cell_type": "code",
   "execution_count": 167,
   "metadata": {},
   "outputs": [],
   "source": [
    "color2index = {(0, 0, 0): 0,\n",
    " (0, 255, 0): 1,\n",
    " (255, 0, 0): 2}"
   ]
  },
  {
   "cell_type": "code",
   "execution_count": 170,
   "metadata": {},
   "outputs": [],
   "source": [
    "def rgb_to_index(name):\n",
    "    rgb_data = np.array(Image.open('images_varied/col_up_hilbert/'+name))\n",
    "    dimension = rgb_data.shape[0]\n",
    "    index_data = numpy.zeros((dimension, dimension), dtype=numpy.uint8)\n",
    "    for i in range(dimension):\n",
    "        for j in range(dimension):\n",
    "            index_data[i][j] = color2index[tuple(rgb_data[i][j])]\n",
    "    img = Image.fromarray(index_data)\n",
    "    img.save('images_varied/col_up_hilbert_index/'+name)"
   ]
  },
  {
   "cell_type": "code",
   "execution_count": 171,
   "metadata": {},
   "outputs": [],
   "source": [
    "#generate index images\n",
    "path = '/Users/aizazansari/Desktop/Uni Data/MOMA/BinaryAnalysis/images_varied/col_up_hilbert'\n",
    "arr = os.listdir(path)\n",
    "for name in arr:\n",
    "    if name.endswith('.png'):\n",
    "        rgb_to_index(name)"
   ]
  }
 ],
 "metadata": {
  "kernelspec": {
   "display_name": "Python 3",
   "language": "python",
   "name": "python3"
  },
  "language_info": {
   "codemirror_mode": {
    "name": "ipython",
    "version": 3
   },
   "file_extension": ".py",
   "mimetype": "text/x-python",
   "name": "python",
   "nbconvert_exporter": "python",
   "pygments_lexer": "ipython3",
   "version": "3.7.3"
  }
 },
 "nbformat": 4,
 "nbformat_minor": 4
}
