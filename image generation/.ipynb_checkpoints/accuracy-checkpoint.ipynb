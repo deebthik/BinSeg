{
 "cells": [
  {
   "cell_type": "code",
   "execution_count": 2,
   "metadata": {},
   "outputs": [],
   "source": [
    "import os\n",
    "from PIL import Image\n",
    "import numpy as np\n",
    "import statistics"
   ]
  },
  {
   "cell_type": "code",
   "execution_count": 17,
   "metadata": {},
   "outputs": [
    {
     "name": "stdout",
     "output_type": "stream",
     "text": [
      "118 0.6696351623096811\n",
      "126 0.5906399596875788\n",
      "170 0.8661245674740484\n",
      "141 0.8069010613148232\n",
      "145 0.6389060642092746\n",
      "226 0.5174837497063199\n",
      "193 0.41410507664635293\n",
      "180 0.6832407407407407\n",
      "230 0.7432703213610586\n",
      "166 0.6236391348526636\n",
      "185 0.8816654492330168\n",
      "221 0.7375156118834586\n"
     ]
    }
   ],
   "source": [
    "path = '/Users/aizazansari/Desktop/Uni Data/MOMA/BinaryAnalysis/images_plc/col/'\n",
    "path2 = '/Users/aizazansari/Desktop/models/research/deeplab/datasets/custom_datasets/visualization/segmentation_results/'\n",
    "arr = os.listdir(path2)\n",
    "\n",
    "averages = []\n",
    "for num, file in enumerate(arr):\n",
    "    if file.endswith('png'):\n",
    "        count = 0\n",
    "        pred = np.array(Image.open(path2+file))\n",
    "        orig = np.array(Image.open(path+file[2:].replace(\"'\",\"\")))\n",
    "        for i in range(len(pred)):\n",
    "            for j in range(len(pred[0])):\n",
    "                if ((pred[i][j]==[0,128,0]).all() and (orig[i][j]==[255,0,0]).all()) or ((pred[i][j]==[128,0,0]).all() and (orig[i][j]==[0,255,0]).all()) or ((pred[i][j]==[0,0,0]).all() and (orig[i][j]==[0,0,0]).all()):\n",
    "                    count = count + 1\n",
    "        averages.append((count/(orig.shape[0]*orig.shape[0])))\n",
    "\n"
   ]
  },
  {
   "cell_type": "code",
   "execution_count": 18,
   "metadata": {},
   "outputs": [
    {
     "data": {
      "text/plain": [
       "0.6810939082849181"
      ]
     },
     "execution_count": 18,
     "metadata": {},
     "output_type": "execute_result"
    }
   ],
   "source": [
    "statistics.mean(averages)"
   ]
  },
  {
   "cell_type": "code",
   "execution_count": null,
   "metadata": {},
   "outputs": [],
   "source": []
  },
  {
   "cell_type": "code",
   "execution_count": null,
   "metadata": {},
   "outputs": [],
   "source": []
  },
  {
   "cell_type": "code",
   "execution_count": null,
   "metadata": {},
   "outputs": [],
   "source": []
  },
  {
   "cell_type": "code",
   "execution_count": null,
   "metadata": {},
   "outputs": [],
   "source": []
  },
  {
   "cell_type": "code",
   "execution_count": null,
   "metadata": {},
   "outputs": [],
   "source": []
  },
  {
   "cell_type": "code",
   "execution_count": null,
   "metadata": {},
   "outputs": [],
   "source": []
  },
  {
   "cell_type": "code",
   "execution_count": null,
   "metadata": {},
   "outputs": [],
   "source": []
  },
  {
   "cell_type": "code",
   "execution_count": null,
   "metadata": {},
   "outputs": [],
   "source": []
  },
  {
   "cell_type": "code",
   "execution_count": null,
   "metadata": {},
   "outputs": [],
   "source": []
  },
  {
   "cell_type": "code",
   "execution_count": null,
   "metadata": {},
   "outputs": [],
   "source": []
  },
  {
   "cell_type": "code",
   "execution_count": null,
   "metadata": {},
   "outputs": [],
   "source": []
  }
 ],
 "metadata": {
  "kernelspec": {
   "display_name": "Python 3",
   "language": "python",
   "name": "python3"
  },
  "language_info": {
   "codemirror_mode": {
    "name": "ipython",
    "version": 3
   },
   "file_extension": ".py",
   "mimetype": "text/x-python",
   "name": "python",
   "nbconvert_exporter": "python",
   "pygments_lexer": "ipython3",
   "version": "3.7.3"
  }
 },
 "nbformat": 4,
 "nbformat_minor": 4
}
