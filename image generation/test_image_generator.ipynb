{
 "cells": [
  {
   "cell_type": "code",
   "execution_count": 77,
   "metadata": {},
   "outputs": [],
   "source": [
    "import pandas as pd\n",
    "import numpy\n",
    "import os\n",
    "import sys\n",
    "import math\n",
    "from PIL import Image\n",
    "from hilbertcurve.hilbertcurve import HilbertCurve"
   ]
  },
  {
   "cell_type": "code",
   "execution_count": 67,
   "metadata": {},
   "outputs": [],
   "source": [
    "path = '/Users/aizazansari/Downloads/PLC_binaries/bin/'\n",
    "path2 = '/Users/aizazansari/Downloads/PLC_binaries/annotations/'\n",
    "arr = os.listdir(path)"
   ]
  },
  {
   "cell_type": "code",
   "execution_count": 72,
   "metadata": {},
   "outputs": [],
   "source": [
    "def create_image(name,decimals):\n",
    "\n",
    "    \n",
    "    length = len(decimals)\n",
    "    dimension = math.ceil(math.sqrt(length))\n",
    "    bw_data = numpy.zeros((dimension, dimension), dtype=numpy.uint8)\n",
    "    col_data = numpy.zeros((dimension, dimension, 3), dtype=numpy.uint8)\n",
    "    \n",
    "    for num in range(length):\n",
    "        \n",
    "        if decimals[num][-1]=='c':\n",
    "            col = [0,255,0]\n",
    "        else:\n",
    "            col = [255,0,0]\n",
    "        \n",
    "        if (num//dimension%2==0):\n",
    "\n",
    "            bw_data[num//dimension,num%dimension] = decimals[num][:-1]\n",
    "            col_data[num//dimension,num%dimension] = col\n",
    "        else:\n",
    "            bw_data[num//dimension,dimension - num%dimension - 1]=decimals[num][:-1]\n",
    "            col_data[num//dimension,dimension - num%dimension - 1]=col\n",
    "            \n",
    "    image = Image.fromarray(bw_data)\n",
    "    image.save(\"images_plc/bw/\"+name.strip('PRG')+\"png\",quality=100)\n",
    "    image = Image.fromarray(col_data)\n",
    "    image.save(\"images_plc/col/\"+name.strip('PRG')+\"png\",quality=100)\n",
    " "
   ]
  },
  {
   "cell_type": "code",
   "execution_count": 74,
   "metadata": {},
   "outputs": [],
   "source": [
    "for name in arr:\n",
    "    decimals = []\n",
    "    with open(path+name, mode='rb') as file:\n",
    "        while 1:\n",
    "            byte = file.read(1)\n",
    "            if not byte:\n",
    "                break\n",
    "            else:\n",
    "                decimals.append(int.from_bytes(byte, byteorder=sys.byteorder))\n",
    "    with open(path2+name.strip('.PRG')+'.txt','r') as file:\n",
    "        labels = file.readline()\n",
    "        labels = labels.split('|')\n",
    "        labels = labels[:len(labels)-1]\n",
    "        \n",
    "    data = [str(x[1])+x[0][0] for x in zip(labels,decimals)]\n",
    "    create_image(name,data)\n"
   ]
  },
  {
   "cell_type": "code",
   "execution_count": 75,
   "metadata": {},
   "outputs": [],
   "source": [
    "#resize images\n",
    "\n",
    "path1 = '/Users/aizazansari/Desktop/Uni Data/MOMA/BinaryAnalysis/images_plc/bw/'\n",
    "path2 = '/Users/aizazansari/Desktop/Uni Data/MOMA/BinaryAnalysis/images_plc/col/'\n",
    "\n",
    "arr = os.listdir(path1)\n",
    "\n",
    "\n",
    "for img in arr:\n",
    "    if img.endswith('.png'):\n",
    "        image1 = Image.open(path1+img)\n",
    "        dim = pow(2,math.ceil(math.log(image1.size[0],2))) \n",
    "        ret_image1 = image1.resize([dim,dim], Image.NEAREST)\n",
    "        ret_image1.save(\"images_plc/bw_up/\"+ img,quality=100)\n",
    "\n",
    "        image2 = Image.open(path2+img)\n",
    "        ret_image2 = image2.resize([dim,dim], Image.NEAREST)\n",
    "        ret_image2.save(\"images_plc/col_up/\"+ img,quality=100)"
   ]
  },
  {
   "cell_type": "code",
   "execution_count": 78,
   "metadata": {},
   "outputs": [],
   "source": [
    "def hc_coords(p, n,size):\n",
    "    coords = []\n",
    "    hilbert_curve = HilbertCurve(p, n)\n",
    "    for i in range(size):\n",
    "        coord = hilbert_curve.coordinates_from_distance(i)\n",
    "        coords += [coord]\n",
    "    return (coords)"
   ]
  },
  {
   "cell_type": "code",
   "execution_count": 79,
   "metadata": {},
   "outputs": [],
   "source": [
    "def create_hilbert_image(name):\n",
    "    \n",
    "    bw_img = np.array(Image.open(\"images_plc/bw_up/\"+name))\n",
    "    col_img = np.array(Image.open(\"images_plc/col_up/\"+name))\n",
    "    \n",
    "    dimension = bw_img.shape[0]\n",
    "    coords = hc_dict[dimension]\n",
    " \n",
    "    bw_data = numpy.zeros((dimension, dimension), dtype=numpy.uint8)\n",
    "    col_data = numpy.zeros((dimension, dimension, 3), dtype=numpy.uint8)\n",
    "    \n",
    "    for num in range(dimension*dimension):\n",
    "        if (num//dimension%2==0):\n",
    "            bw_data[coords[num][0],coords[num][1]] = bw_img[num//dimension,num%dimension] \n",
    "            col_data[coords[num][0],coords[num][1]] = col_img[num//dimension,num%dimension] \n",
    "        else:\n",
    "            bw_data[coords[num][0],coords[num][1]] = bw_img[num//dimension,dimension - num%dimension - 1]\n",
    "            col_data[coords[num][0],coords[num][1]] = col_img[num//dimension,dimension - num%dimension - 1]\n",
    "       \n",
    "    image = Image.fromarray(bw_data)\n",
    "    image.save(\"images_plc/bw_up_hilbert/\"+name,quality=100)\n",
    "    image = Image.fromarray(col_data)\n",
    "    image.save(\"images_plc/col_up_hilbert/\"+name,quality=100)"
   ]
  },
  {
   "cell_type": "code",
   "execution_count": 82,
   "metadata": {},
   "outputs": [],
   "source": [
    "hc_dict = {8: hc_coords(3,2,8*8),\n",
    "          16: hc_coords(4,2,16*16),\n",
    "          32: hc_coords(5,2,32*32),\n",
    "          64: hc_coords(6,2,64*64),\n",
    "          128: hc_coords(7,2,128*128),\n",
    "          256: hc_coords(8,2,256*256),\n",
    "          512: hc_coords(9,2,512*512),\n",
    "          1024: hc_coords(10,2,1024*1024)\n",
    "          }"
   ]
  },
  {
   "cell_type": "code",
   "execution_count": 83,
   "metadata": {},
   "outputs": [],
   "source": [
    "#generate hilbert images\n",
    "arr = os.listdir('/Users/aizazansari/Desktop/Uni Data/MOMA/BinaryAnalysis/images_plc/bw_up')\n",
    "for count, name in enumerate(arr):\n",
    "    if name.endswith('.png'):\n",
    "        create_hilbert_image(name)   \n"
   ]
  },
  {
   "cell_type": "code",
   "execution_count": 86,
   "metadata": {},
   "outputs": [],
   "source": [
    "color2index = {(0, 0, 0): 0,\n",
    " (0, 255, 0): 1,\n",
    " (255, 0, 0): 2}"
   ]
  },
  {
   "cell_type": "code",
   "execution_count": 89,
   "metadata": {},
   "outputs": [],
   "source": [
    "def rgb_to_index(name):\n",
    "    rgb_data = np.array(Image.open('images_plc/col/'+name))\n",
    "    dimension = rgb_data.shape[0]\n",
    "    index_data = numpy.zeros((dimension, dimension), dtype=numpy.uint8)\n",
    "    for i in range(dimension):\n",
    "        for j in range(dimension):\n",
    "            index_data[i][j] = color2index[tuple(rgb_data[i][j])]\n",
    "    img = Image.fromarray(index_data)\n",
    "    img.save('images_plc/col_index/'+name)"
   ]
  },
  {
   "cell_type": "code",
   "execution_count": 90,
   "metadata": {},
   "outputs": [],
   "source": [
    "#generate index images\n",
    "path = '/Users/aizazansari/Desktop/Uni Data/MOMA/BinaryAnalysis/images_plc/col/'\n",
    "arr = os.listdir(path)\n",
    "for name in arr:\n",
    "    if name.endswith('.png'):\n",
    "        rgb_to_index(name)"
   ]
  },
  {
   "cell_type": "code",
   "execution_count": 106,
   "metadata": {},
   "outputs": [],
   "source": [
    "path = '/Users/aizazansari/Desktop/Uni Data/MOMA/BinaryAnalysis/images_plc/col_up_hilbert/'\n",
    "arr = os.listdir(path)\n",
    "for name in arr:\n",
    "    if name.endswith('png'):\n",
    "        img = Image.open(path+name)\n",
    "        if img.size[0]<=512:\n",
    "            crop_img(name,64)"
   ]
  },
  {
   "cell_type": "code",
   "execution_count": 105,
   "metadata": {},
   "outputs": [],
   "source": [
    "def crop_img(name,new_dimension):\n",
    "    load_path= 'images_plc/col_up_hilbert/'\n",
    "    save_path = 'images_plc/col_up_hilbert_crop/'\n",
    "    img = Image.open(load_path+name)\n",
    "    old_dimension = img.size[0]\n",
    "    \n",
    "    if old_dimension==new_dimension:\n",
    "        img.save(save_path+name,quality=100)\n",
    "    \n",
    "    if old_dimension > new_dimension:\n",
    "        num_row = int(old_dimension/new_dimension)\n",
    "        crop = pow(num_row,2)\n",
    "\n",
    "        for i in range(crop):\n",
    "\n",
    "            x = (i*new_dimension)%old_dimension\n",
    "            y = (i//num_row)*new_dimension \n",
    "\n",
    "            cropped = img.crop((x,y,x+new_dimension,y+new_dimension))\n",
    "            cropped.save(save_path + name.strip('.png') +  \"-\" + str(i) + \".png\",quality=100)\n"
   ]
  },
  {
   "cell_type": "code",
   "execution_count": 103,
   "metadata": {},
   "outputs": [],
   "source": [
    "val = open('val.txt','w')\n",
    "files = os.listdir('/Users/aizazansari/Desktop/Uni Data/MOMA/BinaryAnalysis/images_plc/col_up_hilbert_index_crop')\n",
    "for count, file in enumerate(files):\n",
    "    if file.endswith('png'):\n",
    "        val.write(file.strip('.png') +\"\\n\")\n",
    "val.close()\n"
   ]
  },
  {
   "cell_type": "code",
   "execution_count": 111,
   "metadata": {},
   "outputs": [],
   "source": [
    "val = open('val.txt','w')\n",
    "path = '/Users/aizazansari/Desktop/Uni Data/MOMA/BinaryAnalysis/images_plc/bw/'\n",
    "arr = os.listdir(path)\n",
    "for name in arr:\n",
    "    if name.endswith('png'):\n",
    "        img = Image.open(path+name)\n",
    "        if img.size[0]<=256:\n",
    "            val.write(name.strip('.png') +\"\\n\")\n",
    "            img.save('selectbw/'+name,quality=100)\n",
    "val.close()"
   ]
  },
  {
   "cell_type": "code",
   "execution_count": null,
   "metadata": {},
   "outputs": [],
   "source": []
  }
 ],
 "metadata": {
  "kernelspec": {
   "display_name": "Python 3",
   "language": "python",
   "name": "python3"
  },
  "language_info": {
   "codemirror_mode": {
    "name": "ipython",
    "version": 3
   },
   "file_extension": ".py",
   "mimetype": "text/x-python",
   "name": "python",
   "nbconvert_exporter": "python",
   "pygments_lexer": "ipython3",
   "version": "3.7.3"
  }
 },
 "nbformat": 4,
 "nbformat_minor": 4
}
